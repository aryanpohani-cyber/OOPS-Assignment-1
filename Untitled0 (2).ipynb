{
  "nbformat": 4,
  "nbformat_minor": 0,
  "metadata": {
    "colab": {
      "provenance": []
    },
    "kernelspec": {
      "name": "python3",
      "display_name": "Python 3"
    },
    "language_info": {
      "name": "python"
    }
  },
  "cells": [
    {
      "cell_type": "markdown",
      "source": [
        "1. What is Object-Oriented Programming (OOP)?\n",
        " - Object-Oriented Programming (OOP) is a programming paradigm (style of programming) that is based on the concept of objects.\n",
        "An object is like a real-world entity (e.g., car, student, employee).\n",
        "Objects have attributes (data/variables) and behaviors (methods/functions).\n",
        "Instead of just writing functions and logic, OOP organizes code into classes and objects.\n",
        "\n",
        "2. What is a class in OOP?\n",
        " - In Object-Oriented Programming (OOP), a class is a blueprint or template for creating objects.\n",
        "\n",
        "It defines the attributes (data/variables) and methods (functions/behaviors) that the objects created from the class will have.\n",
        "\n",
        "3. What is an object in OOP?\n",
        " - If a class is a blueprint, then an object is the actual thing created using that blueprint.\n",
        "A class only defines properties and behaviors.\n",
        "An object stores real data and can perform actions defined in the class.\n",
        "\n",
        "4. What is the difference between abstraction and encapsulation?\n",
        " - 1. Abstraction\n",
        "\n",
        "Definition: Hiding complex implementation details and showing only the essential features to the user.\n",
        "Purpose: To simplify usage and reduce complexity.\n",
        "How in Python: Using abstract classes (abc module) or by exposing only necessary methods.\n",
        "\n",
        "2. Encapsulation\n",
        "\n",
        "Definition: Wrapping data (attributes) and methods (functions) together in a single unit (class) and restricting direct access to some of the data.\n",
        "Purpose: Protect data from unauthorized access and modification.\n",
        "How in Python: Using private variables (with _ or __) and getter/setter methods.\n",
        "\n",
        "5. What are dunder methods in Python?\n",
        " - Dunder methods (short for “double underscore” methods) are special methods in Python that start and end with double underscores __, like __init__, __str__, __add__, etc.\n",
        "They are also called magic methods or special methods.\n",
        "Python automatically calls them in certain situations.\n",
        "They allow you to define how objects behave with built-in operations (like addition, printing, comparison).\n",
        "\n",
        "6. Explain the concept of inheritance in OOPS.\n",
        " - Inheritance is a core concept of Object-Oriented Programming (OOP) that allows a class to inherit attributes and methods from another class.\n",
        "\n",
        "The class that inherits is called the child (or subclass).\n",
        "The class being inherited from is called the parent (or superclass).\n",
        "Inheritance promotes code reusability, modularity, and organization.\n",
        "\n",
        "7.  What is polymorphism in OOP?\n",
        " - Polymorphism in OOP\n",
        "\n",
        "Polymorphism is an OOP concept that allows objects of different classes to be treated as objects of a common superclass, or allows a method to behave differently based on the object that calls it.\n",
        "Word meaning: “Poly” = many, “Morph” = forms → Many forms.\n",
        "Polymorphism allows the same operation to work differently depending on the context.\n",
        "\n",
        "8. How is encapsulation achieved in Python?\n",
        " - Encapsulation is the OOP concept of wrapping data (attributes) and methods (functions) together in a single unit (class) and restricting direct access to some of the object’s components.\n",
        "It helps protect data from being modified directly.\n",
        "Achieved using access modifiers in Python: public, protected, and private.\n",
        "\n",
        "9. What is a constructor in Python?\n",
        " - A constructor is a special method in a Python class that is automatically called when an object is created.\n",
        "It is used to initialize the object’s attributes (set initial values).\n",
        "In Python, the constructor method is always named:\n",
        "__init__()\n",
        "\n",
        "10. What are class and static methods in Python?\n",
        " - 1. Class Methods in Python\n",
        "\n",
        "A class method is a method that works with the class itself, not individual objects.\n",
        "It can access or modify class-level attributes.\n",
        "Defined using the @classmethod decorator.\n",
        "The first parameter is cls, which refers to the class.\n",
        "\n",
        "2. Static Methods in Python\n",
        "\n",
        "A static method does not access class or instance attributes.\n",
        "It behaves like a regular function inside the class.\n",
        "Defined using the @staticmethod decorator.\n",
        "Does not take self or cls as parameters.\n",
        "\n",
        "11. What is method overloading in Python?\n",
        " - Method overloading is a concept where multiple methods have the same name but different parameters (different number or type of arguments).\n",
        "It allows one method name to perform different tasks based on the arguments.\n",
        "In Python: true method overloading is not directly supported because the latest defined method overrides the previous one.\n",
        "\n",
        "✅ Python provides alternative ways to achieve method overloading:\n",
        "Using default arguments\n",
        "Using *args / **kwargs\n",
        "\n",
        "12. What is method overriding in OOP?\n",
        " - Method overriding occurs when a child class provides a new implementation of a method that is already defined in its parent class.\n",
        "It allows a child class to change or extend the behavior of the parent class method.\n",
        "Works with inheritance.\n",
        "Python automatically uses the child class’s version of the method when called on a child object.\n"
      ],
      "metadata": {
        "id": "TUvLnmZlTLbT"
      }
    },
    {
      "cell_type": "code",
      "source": [
        "#1. Create a parent class Animal with a method speak() that prints a generic message. Create a child class Dog that overrides the speak() method to print \"Bark!\".\n",
        "\n",
        " # Parent class\n",
        "class Animal:\n",
        "    def speak(self):\n",
        "        print(\"This animal makes a sound\")\n",
        "\n",
        "# Child class\n",
        "class Dog(Animal):\n",
        "    def speak(self):  # Overriding parent method\n",
        "        print(\"Bark!\")\n",
        "\n",
        "# Creating objects\n",
        "animal = Animal()\n",
        "dog = Dog()\n",
        "\n",
        "# Calling methods\n",
        "animal.speak()  # Output: This animal makes a sound\n",
        "dog.speak()     # Output: B"
      ],
      "metadata": {
        "colab": {
          "base_uri": "https://localhost:8080/"
        },
        "id": "pqS6Q7rAWYEV",
        "outputId": "18745956-d8d4-4b36-b7ad-8c4cb4dc4859"
      },
      "execution_count": 3,
      "outputs": [
        {
          "output_type": "stream",
          "name": "stdout",
          "text": [
            "This animal makes a sound\n",
            "Bark!\n"
          ]
        }
      ]
    },
    {
      "cell_type": "code",
      "source": [
        "#2. Write a program to create an abstract class Shape with a method area(). Derive classes Circle and Rectangle from it and implement the area() method in both.\n",
        "\n",
        "from abc import ABC, abstractmethod\n",
        "import math\n",
        "\n",
        "# Abstract class\n",
        "class Shape(ABC):\n",
        "    @abstractmethod\n",
        "    def area(self):\n",
        "        pass  # Abstract method, must be implemented by subclasses\n",
        "\n",
        "# Circle class\n",
        "class Circle(Shape):\n",
        "    def __init__(self, radius):\n",
        "        self.radius = radius\n",
        "\n",
        "    def area(self):\n",
        "        return math.pi * self.radius ** 2\n",
        "\n",
        "# Rectangle class\n",
        "class Rectangle(Shape):\n",
        "    def __init__(self, length, width):\n",
        "        self.length = length\n",
        "        self.width = width\n",
        "\n",
        "    def area(self):\n",
        "        return self.length * self.width\n",
        "\n",
        "# Creating objects\n",
        "circle = Circle(5)\n",
        "rectangle = Rectangle(4, 6)\n",
        "\n",
        "# Displaying areas\n",
        "print(f\"Area of Circle: {circle.area():.2f}\")\n",
        "print(f\"Area of Rectangle: {rectangle.area():.2f}\")"
      ],
      "metadata": {
        "colab": {
          "base_uri": "https://localhost:8080/"
        },
        "id": "JgKGy1-CWfML",
        "outputId": "a459e9ee-c57a-4c03-fed4-c422d033cfad"
      },
      "execution_count": 4,
      "outputs": [
        {
          "output_type": "stream",
          "name": "stdout",
          "text": [
            "Area of Circle: 78.54\n",
            "Area of Rectangle: 24.00\n"
          ]
        }
      ]
    },
    {
      "cell_type": "code",
      "source": [
        "#3. Implement a multi-level inheritance scenario where a class Vehicle has an attribute type. Derive a class Car and further derive a class ElectricCar that adds a battery attribute.\n",
        " # Parent class\n",
        "class Vehicle:\n",
        "    def __init__(self, vehicle_type):\n",
        "        self.type = vehicle_type\n",
        "\n",
        "    def show_type(self):\n",
        "        print(f\"Vehicle Type: {self.type}\")\n",
        "\n",
        "# Child class inheriting from Vehicle\n",
        "class Car(Vehicle):\n",
        "    def __init__(self, vehicle_type, brand):\n",
        "        super().__init__(vehicle_type)  # Call parent constructor\n",
        "        self.brand = brand\n",
        "\n",
        "    def show_brand(self):\n",
        "        print(f\"Car Brand: {self.brand}\")\n",
        "\n",
        "# Child class inheriting from Car\n",
        "class ElectricCar(Car):\n",
        "    def __init__(self, vehicle_type, brand, battery_capacity):\n",
        "        super().__init__(vehicle_type, brand)  # Call parent constructor\n",
        "        self.battery = battery_capacity\n",
        "\n",
        "    def show_battery(self):\n",
        "        print(f\"Battery Capacity: {self.battery} kWh\")\n",
        "\n",
        "# Creating object of ElectricCar\n",
        "my_electric_car = ElectricCar(\"Car\", \"Tesla\", 100)\n",
        "\n",
        "# Accessing attributes and methods from all levels\n",
        "my_electric_car.show_type()     # Vehicle method\n",
        "my_electric_car.show_brand()    # Car method\n",
        "my_electric_car.show_battery()  # ElectricCar method\n",
        "\n"
      ],
      "metadata": {
        "colab": {
          "base_uri": "https://localhost:8080/"
        },
        "id": "YO4HRgLhXNb-",
        "outputId": "1ac9f892-74ab-4330-e5d8-aaae551beb42"
      },
      "execution_count": 5,
      "outputs": [
        {
          "output_type": "stream",
          "name": "stdout",
          "text": [
            "Vehicle Type: Car\n",
            "Car Brand: Tesla\n",
            "Battery Capacity: 100 kWh\n"
          ]
        }
      ]
    },
    {
      "cell_type": "code",
      "source": [
        "#4. Demonstrate polymorphism by creating a base class Bird with a method fly(). Create two derived classes Sparrow and Penguin that override the fly() method.\n",
        " # Base class\n",
        "class Bird:\n",
        "    def fly(self):\n",
        "        print(\"Some birds can fly\")\n",
        "\n",
        "# Derived class Sparrow\n",
        "class Sparrow(Bird):\n",
        "    def fly(self):\n",
        "        print(\"Sparrow can fly high in the sky\")\n",
        "\n",
        "# Derived class Penguin\n",
        "class Penguin(Bird):\n",
        "    def fly(self):\n",
        "        print(\"Penguin cannot fly, it swims instead\")\n",
        "\n",
        "# Creating objects\n",
        "bird = Bird()\n",
        "sparrow = Sparrow()\n",
        "penguin = Penguin()\n",
        "\n",
        "# Demonstrating polymorphism\n",
        "for b in (bird, sparrow, penguin):\n",
        "    b.fly()\n"
      ],
      "metadata": {
        "colab": {
          "base_uri": "https://localhost:8080/"
        },
        "id": "3IOWvnWdXiCJ",
        "outputId": "e8aa48bf-ac8e-47cf-9c74-b0dae43e7d49"
      },
      "execution_count": 6,
      "outputs": [
        {
          "output_type": "stream",
          "name": "stdout",
          "text": [
            "Some birds can fly\n",
            "Sparrow can fly high in the sky\n",
            "Penguin cannot fly, it swims instead\n"
          ]
        }
      ]
    },
    {
      "cell_type": "code",
      "source": [
        "#5. Write a program to demonstrate encapsulation by creating a class BankAccount with private attributes balance and methods to deposit, withdraw, and check balance.\n",
        " # Class demonstrating encapsulation\n",
        "class BankAccount:\n",
        "    def __init__(self, balance):\n",
        "        self.__balance = balance  # private attribute\n",
        "\n",
        "    # Method to deposit money\n",
        "    def deposit(self, amount):\n",
        "        if amount > 0:\n",
        "            self.__balance += amount\n",
        "            print(f\"Deposited: ${amount}\")\n",
        "        else:\n",
        "            print(\"Deposit amount must be positive\")\n",
        "\n",
        "    # Method to withdraw money\n",
        "    def withdraw(self, amount):\n",
        "        if 0 < amount <= self.__balance:\n",
        "            self.__balance -= amount\n",
        "            print(f\"Withdrawn: ${amount}\")\n",
        "        else:\n",
        "            print(\"Insufficient balance or invalid amount\")\n",
        "\n",
        "    # Method to check balance\n",
        "    def check_balance(self):\n",
        "        print(f\"Current Balance: ${self.__balance}\")\n",
        "\n",
        "# Creating a bank account object\n",
        "account = BankAccount(1000)\n",
        "\n",
        "# Accessing methods\n",
        "account.check_balance()   # Current Balance: $1000\n",
        "account.deposit(500)      # Deposited: $500\n",
        "account.check_balance()   # Current Balance: $1500\n",
        "account.withdraw(2000)    # Insufficient balance or invalid amount\n",
        "account.withdraw(300)     # Withdrawn: $300\n",
        "account.check_balance()   # Current Balance: $1200\n",
        "\n",
        "# Trying to access private attribute directly (will fail)\n",
        "# print(account.__balance)  # ❌ AttributeError"
      ],
      "metadata": {
        "colab": {
          "base_uri": "https://localhost:8080/"
        },
        "id": "8aBZlOt0XsFn",
        "outputId": "d142246e-a4d4-4227-9384-25d7b698ca61"
      },
      "execution_count": 7,
      "outputs": [
        {
          "output_type": "stream",
          "name": "stdout",
          "text": [
            "Current Balance: $1000\n",
            "Deposited: $500\n",
            "Current Balance: $1500\n",
            "Insufficient balance or invalid amount\n",
            "Withdrawn: $300\n",
            "Current Balance: $1200\n"
          ]
        }
      ]
    },
    {
      "cell_type": "code",
      "source": [
        "#6. Demonstrate runtime polymorphism using a method play() in a base class Instrument. Derive classes Guitar and Piano that implement their own version of play().\n",
        " # Base class\n",
        "class Instrument:\n",
        "    def play(self):\n",
        "        print(\"Playing some instrument\")\n",
        "\n",
        "# Derived class Guitar\n",
        "class Guitar(Instrument):\n",
        "    def play(self):\n",
        "        print(\"Playing the Guitar 🎸\")\n",
        "\n",
        "# Derived class Piano\n",
        "class Piano(Instrument):\n",
        "    def play(self):\n",
        "        print(\"Playing the Piano 🎹\")\n",
        "\n",
        "# Creating objects\n",
        "instrument = Instrument()\n",
        "guitar = Guitar()\n",
        "piano = Piano()\n",
        "\n",
        "# Demonstrating runtime polymorphism\n",
        "for inst in (instrument, guitar, piano):\n",
        "    inst.play()\n",
        "\n"
      ],
      "metadata": {
        "colab": {
          "base_uri": "https://localhost:8080/"
        },
        "id": "taRdHPXbX2qq",
        "outputId": "60a43b5a-ee76-4456-a910-42f7255bc410"
      },
      "execution_count": 8,
      "outputs": [
        {
          "output_type": "stream",
          "name": "stdout",
          "text": [
            "Playing some instrument\n",
            "Playing the Guitar 🎸\n",
            "Playing the Piano 🎹\n"
          ]
        }
      ]
    },
    {
      "cell_type": "code",
      "source": [],
      "metadata": {
        "id": "m6-nqAxzYBa6"
      },
      "execution_count": null,
      "outputs": []
    }
  ]
}